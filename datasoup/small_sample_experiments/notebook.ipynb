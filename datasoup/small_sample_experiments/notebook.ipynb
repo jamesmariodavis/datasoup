{
 "cells": [
  {
   "cell_type": "code",
   "execution_count": 16,
   "metadata": {},
   "outputs": [],
   "source": [
    "import numpy as np\n",
    "from datasoup.small_sample_experiments.data_gen import (\n",
    "    Simulator,\n",
    "    SimulationConfig,\n",
    "    Transactions,\n",
    "    StoreParameters,\n",
    "    Customers,\n",
    ")\n",
    "import plotly.express as px\n",
    "import plotly.graph_objects as go\n",
    "from plotly.subplots import make_subplots\n",
    "import os\n",
    "\n",
    "RNG = np.random.default_rng(0)\n",
    "\n",
    "IMG_PATH = \"datasoup/small_sample_experiments/images\"\n",
    "DEFAULT_PLOTLY_LAYOUT = go.Layout(\n",
    "    autosize=False,\n",
    "    width=1000,\n",
    "    height=400,\n",
    "    xaxis=go.layout.XAxis(linecolor=\"black\", linewidth=1, mirror=True),\n",
    "    yaxis=go.layout.YAxis(linecolor=\"black\", linewidth=1, mirror=True),\n",
    "    margin=go.layout.Margin(l=50, r=50, b=50, t=50, pad=20),\n",
    ")"
   ]
  },
  {
   "cell_type": "code",
   "execution_count": 2,
   "metadata": {},
   "outputs": [],
   "source": [
    "sim_config = SimulationConfig.get_default_skewed_config()\n",
    "simulator = Simulator.initialize_from_config(sim_config, RNG)\n",
    "transactions = simulator.get_transactions(RNG)"
   ]
  },
  {
   "cell_type": "code",
   "execution_count": 3,
   "metadata": {},
   "outputs": [
    {
     "data": {
      "text/plain": [
       "0.5033113949122119"
      ]
     },
     "execution_count": 3,
     "metadata": {},
     "output_type": "execute_result"
    }
   ],
   "source": [
    "first_treated_day = transactions[transactions[Transactions.IS_TREATED_COL]][Transactions.DAY_COL].min()\n",
    "treated_time_frame_transactions = transactions[first_treated_day <= transactions[Transactions.DAY_COL]]\n",
    "\n",
    "len(treated_time_frame_transactions) / len(transactions)"
   ]
  },
  {
   "cell_type": "code",
   "execution_count": 4,
   "metadata": {},
   "outputs": [
    {
     "data": {
      "text/plain": [
       "is_treated\n",
       "False    2537837.0\n",
       "True     1246757.0\n",
       "Name: purchase_quantity, dtype: float64"
      ]
     },
     "execution_count": 4,
     "metadata": {},
     "output_type": "execute_result"
    }
   ],
   "source": [
    "treated_time_frame_transactions.groupby(Transactions.IS_TREATED_COL)[Transactions.PURCHASE_QUANTITY_COL].sum()"
   ]
  },
  {
   "cell_type": "code",
   "execution_count": 5,
   "metadata": {},
   "outputs": [
    {
     "data": {
      "text/html": [
       "<div>\n",
       "<style scoped>\n",
       "    .dataframe tbody tr th:only-of-type {\n",
       "        vertical-align: middle;\n",
       "    }\n",
       "\n",
       "    .dataframe tbody tr th {\n",
       "        vertical-align: top;\n",
       "    }\n",
       "\n",
       "    .dataframe thead th {\n",
       "        text-align: right;\n",
       "    }\n",
       "</style>\n",
       "<table border=\"1\" class=\"dataframe\">\n",
       "  <thead>\n",
       "    <tr style=\"text-align: right;\">\n",
       "      <th></th>\n",
       "      <th>is_treated</th>\n",
       "      <th>store_id</th>\n",
       "      <th>purchase_quantity</th>\n",
       "      <th>customer_id</th>\n",
       "      <th>transaction_id</th>\n",
       "      <th>purchases_per_transaction</th>\n",
       "      <th>purchases_per_customer</th>\n",
       "    </tr>\n",
       "  </thead>\n",
       "  <tbody>\n",
       "    <tr>\n",
       "      <th>0</th>\n",
       "      <td>False</td>\n",
       "      <td>0</td>\n",
       "      <td>107665.0</td>\n",
       "      <td>1083</td>\n",
       "      <td>4494</td>\n",
       "      <td>23.957499</td>\n",
       "      <td>99.413666</td>\n",
       "    </tr>\n",
       "    <tr>\n",
       "      <th>1</th>\n",
       "      <td>True</td>\n",
       "      <td>1</td>\n",
       "      <td>32290.0</td>\n",
       "      <td>791</td>\n",
       "      <td>3415</td>\n",
       "      <td>9.455344</td>\n",
       "      <td>40.821745</td>\n",
       "    </tr>\n",
       "    <tr>\n",
       "      <th>2</th>\n",
       "      <td>True</td>\n",
       "      <td>2</td>\n",
       "      <td>4952.0</td>\n",
       "      <td>351</td>\n",
       "      <td>1503</td>\n",
       "      <td>3.294744</td>\n",
       "      <td>14.108262</td>\n",
       "    </tr>\n",
       "    <tr>\n",
       "      <th>3</th>\n",
       "      <td>False</td>\n",
       "      <td>3</td>\n",
       "      <td>25809.0</td>\n",
       "      <td>390</td>\n",
       "      <td>1644</td>\n",
       "      <td>15.698905</td>\n",
       "      <td>66.176923</td>\n",
       "    </tr>\n",
       "    <tr>\n",
       "      <th>4</th>\n",
       "      <td>False</td>\n",
       "      <td>4</td>\n",
       "      <td>8098.0</td>\n",
       "      <td>551</td>\n",
       "      <td>2366</td>\n",
       "      <td>3.422654</td>\n",
       "      <td>14.696915</td>\n",
       "    </tr>\n",
       "    <tr>\n",
       "      <th>...</th>\n",
       "      <td>...</td>\n",
       "      <td>...</td>\n",
       "      <td>...</td>\n",
       "      <td>...</td>\n",
       "      <td>...</td>\n",
       "      <td>...</td>\n",
       "      <td>...</td>\n",
       "    </tr>\n",
       "    <tr>\n",
       "      <th>115</th>\n",
       "      <td>True</td>\n",
       "      <td>115</td>\n",
       "      <td>3041.0</td>\n",
       "      <td>473</td>\n",
       "      <td>2066</td>\n",
       "      <td>1.471926</td>\n",
       "      <td>6.429175</td>\n",
       "    </tr>\n",
       "    <tr>\n",
       "      <th>116</th>\n",
       "      <td>False</td>\n",
       "      <td>116</td>\n",
       "      <td>8912.0</td>\n",
       "      <td>246</td>\n",
       "      <td>1004</td>\n",
       "      <td>8.876494</td>\n",
       "      <td>36.227642</td>\n",
       "    </tr>\n",
       "    <tr>\n",
       "      <th>117</th>\n",
       "      <td>False</td>\n",
       "      <td>117</td>\n",
       "      <td>1776.0</td>\n",
       "      <td>401</td>\n",
       "      <td>1716</td>\n",
       "      <td>1.034965</td>\n",
       "      <td>4.428928</td>\n",
       "    </tr>\n",
       "    <tr>\n",
       "      <th>118</th>\n",
       "      <td>False</td>\n",
       "      <td>118</td>\n",
       "      <td>27155.0</td>\n",
       "      <td>832</td>\n",
       "      <td>3493</td>\n",
       "      <td>7.774120</td>\n",
       "      <td>32.638221</td>\n",
       "    </tr>\n",
       "    <tr>\n",
       "      <th>119</th>\n",
       "      <td>True</td>\n",
       "      <td>119</td>\n",
       "      <td>62884.0</td>\n",
       "      <td>928</td>\n",
       "      <td>3978</td>\n",
       "      <td>15.807944</td>\n",
       "      <td>67.762931</td>\n",
       "    </tr>\n",
       "  </tbody>\n",
       "</table>\n",
       "<p>120 rows × 7 columns</p>\n",
       "</div>"
      ],
      "text/plain": [
       "     is_treated  store_id  purchase_quantity  customer_id  transaction_id  \\\n",
       "0         False         0           107665.0         1083            4494   \n",
       "1          True         1            32290.0          791            3415   \n",
       "2          True         2             4952.0          351            1503   \n",
       "3         False         3            25809.0          390            1644   \n",
       "4         False         4             8098.0          551            2366   \n",
       "..          ...       ...                ...          ...             ...   \n",
       "115        True       115             3041.0          473            2066   \n",
       "116       False       116             8912.0          246            1004   \n",
       "117       False       117             1776.0          401            1716   \n",
       "118       False       118            27155.0          832            3493   \n",
       "119        True       119            62884.0          928            3978   \n",
       "\n",
       "     purchases_per_transaction  purchases_per_customer  \n",
       "0                    23.957499               99.413666  \n",
       "1                     9.455344               40.821745  \n",
       "2                     3.294744               14.108262  \n",
       "3                    15.698905               66.176923  \n",
       "4                     3.422654               14.696915  \n",
       "..                         ...                     ...  \n",
       "115                   1.471926                6.429175  \n",
       "116                   8.876494               36.227642  \n",
       "117                   1.034965                4.428928  \n",
       "118                   7.774120               32.638221  \n",
       "119                  15.807944               67.762931  \n",
       "\n",
       "[120 rows x 7 columns]"
      ]
     },
     "execution_count": 5,
     "metadata": {},
     "output_type": "execute_result"
    }
   ],
   "source": [
    "metrics_frame = (\n",
    "    treated_time_frame_transactions.groupby([Transactions.IS_TREATED_COL, Transactions.STORE_ID_COL])\n",
    "    .agg(\n",
    "        {\n",
    "            Transactions.PURCHASE_QUANTITY_COL: \"sum\",\n",
    "            Transactions.CUSTOMER_ID_COL: \"nunique\",\n",
    "            Transactions.TRANSACTION_ID_COL: \"count\",\n",
    "        }\n",
    "    )\n",
    "    .reset_index(drop=False)\n",
    "    .sort_values(by=[Transactions.STORE_ID_COL, Transactions.IS_TREATED_COL])\n",
    "    .reset_index(drop=True)\n",
    ")\n",
    "metrics_frame[\"purchases_per_transaction\"] = (\n",
    "    metrics_frame[Transactions.PURCHASE_QUANTITY_COL] / metrics_frame[Transactions.TRANSACTION_ID_COL]\n",
    ")\n",
    "metrics_frame[\"purchases_per_customer\"] = (\n",
    "    metrics_frame[Transactions.PURCHASE_QUANTITY_COL] / metrics_frame[Transactions.CUSTOMER_ID_COL]\n",
    ")\n",
    "\n",
    "metrics_frame"
   ]
  },
  {
   "cell_type": "code",
   "execution_count": 6,
   "metadata": {},
   "outputs": [
    {
     "data": {
      "text/html": [
       "<div>\n",
       "<style scoped>\n",
       "    .dataframe tbody tr th:only-of-type {\n",
       "        vertical-align: middle;\n",
       "    }\n",
       "\n",
       "    .dataframe tbody tr th {\n",
       "        vertical-align: top;\n",
       "    }\n",
       "\n",
       "    .dataframe thead th {\n",
       "        text-align: right;\n",
       "    }\n",
       "</style>\n",
       "<table border=\"1\" class=\"dataframe\">\n",
       "  <thead>\n",
       "    <tr style=\"text-align: right;\">\n",
       "      <th></th>\n",
       "      <th>purchase_quantity</th>\n",
       "      <th>purchases_per_transaction</th>\n",
       "      <th>purchases_per_customer</th>\n",
       "    </tr>\n",
       "    <tr>\n",
       "      <th>is_treated</th>\n",
       "      <th></th>\n",
       "      <th></th>\n",
       "      <th></th>\n",
       "    </tr>\n",
       "  </thead>\n",
       "  <tbody>\n",
       "    <tr>\n",
       "      <th>False</th>\n",
       "      <td>31331.320988</td>\n",
       "      <td>12.917977</td>\n",
       "      <td>54.387453</td>\n",
       "    </tr>\n",
       "    <tr>\n",
       "      <th>True</th>\n",
       "      <td>31968.128205</td>\n",
       "      <td>12.004087</td>\n",
       "      <td>52.065930</td>\n",
       "    </tr>\n",
       "  </tbody>\n",
       "</table>\n",
       "</div>"
      ],
      "text/plain": [
       "            purchase_quantity  purchases_per_transaction  \\\n",
       "is_treated                                                 \n",
       "False            31331.320988                  12.917977   \n",
       "True             31968.128205                  12.004087   \n",
       "\n",
       "            purchases_per_customer  \n",
       "is_treated                          \n",
       "False                    54.387453  \n",
       "True                     52.065930  "
      ]
     },
     "execution_count": 6,
     "metadata": {},
     "output_type": "execute_result"
    }
   ],
   "source": [
    "metrics_frame.groupby(Transactions.IS_TREATED_COL).agg(\n",
    "    {\n",
    "        Transactions.PURCHASE_QUANTITY_COL: \"mean\",\n",
    "        \"purchases_per_transaction\": \"mean\",\n",
    "        \"purchases_per_customer\": \"mean\",\n",
    "    }\n",
    ")"
   ]
  },
  {
   "cell_type": "code",
   "execution_count": 22,
   "metadata": {},
   "outputs": [
    {
     "data": {
      "application/vnd.plotly.v1+json": {
       "config": {
        "plotlyServerURL": "https://plot.ly"
       },
       "data": [
        {
         "alignmentgroup": "True",
         "bingroup": "x",
         "hovertemplate": "is_treated=False<br>purchases_per_customer=%{x}<br>count=%{y}<extra></extra>",
         "legendgroup": "False",
         "marker": {
          "color": "#636efa",
          "pattern": {
           "shape": ""
          }
         },
         "name": "False",
         "nbinsx": 30,
         "offsetgroup": "False",
         "orientation": "v",
         "showlegend": true,
         "type": "histogram",
         "x": [
          99.41366574330563,
          66.17692307692307,
          14.696914700544465,
          23.627085377821395,
          16.331136738056014,
          36.72861842105263,
          79.46072796934865,
          37.45132743362832,
          109.70116861435726,
          126.96324951644101,
          110.89208633093526,
          22.665914221218962,
          85.68338557993731,
          33.544910179640716,
          4.430711610486892,
          14.342528735632184,
          111.57409879839787,
          63.00142857142857,
          42.15555555555556,
          71.64665523156089,
          45.02970297029703,
          66.25548589341693,
          32.44137931034483,
          4.400570884871551,
          90.07204610951008,
          52.53050397877984,
          35.03225806451613,
          135.96511627906978,
          33.300411522633745,
          97.81180811808117,
          61.22,
          102.79324055666004,
          80.0079365079365,
          96.03003003003003,
          19.604430379746834,
          22.286506469500925,
          110.04145077720207,
          6.374384236453202,
          64.55232558139535,
          64.02197802197803,
          39.55927835051546,
          57.305331179321485,
          45.23127035830619,
          55.103120759837175,
          31.63659147869674,
          101.22262773722628,
          69.66294227188082,
          62.25430210325048,
          16.57075471698113,
          50.618852459016395,
          86.83187772925764,
          46.571653543307086,
          18.447928331466965,
          27.04892966360856,
          27.30188679245283,
          30.86292834890966,
          76.94647887323944,
          9.921052631578947,
          30.631469979296067,
          63.25242718446602,
          24.486552567237165,
          48.67610619469026,
          66.3145956607495,
          48.317697228144986,
          16.46908315565032,
          43.77358490566038,
          181.24635332252836,
          4.4402654867256635,
          50.743639921722114,
          56.43181818181818,
          62.95145631067961,
          103.49937888198758,
          55.473684210526315,
          39.03583061889251,
          15.806343906510852,
          22.46103038309115,
          121.78412698412698,
          32.936,
          36.22764227642276,
          4.428927680798005,
          32.63822115384615
         ],
         "xaxis": "x",
         "yaxis": "y"
        },
        {
         "alignmentgroup": "True",
         "hovertemplate": "is_treated=False<br>purchases_per_customer=%{x}<extra></extra>",
         "legendgroup": "False",
         "marker": {
          "color": "#636efa"
         },
         "name": "False",
         "notched": true,
         "offsetgroup": "False",
         "showlegend": false,
         "type": "box",
         "x": [
          99.41366574330563,
          66.17692307692307,
          14.696914700544465,
          23.627085377821395,
          16.331136738056014,
          36.72861842105263,
          79.46072796934865,
          37.45132743362832,
          109.70116861435726,
          126.96324951644101,
          110.89208633093526,
          22.665914221218962,
          85.68338557993731,
          33.544910179640716,
          4.430711610486892,
          14.342528735632184,
          111.57409879839787,
          63.00142857142857,
          42.15555555555556,
          71.64665523156089,
          45.02970297029703,
          66.25548589341693,
          32.44137931034483,
          4.400570884871551,
          90.07204610951008,
          52.53050397877984,
          35.03225806451613,
          135.96511627906978,
          33.300411522633745,
          97.81180811808117,
          61.22,
          102.79324055666004,
          80.0079365079365,
          96.03003003003003,
          19.604430379746834,
          22.286506469500925,
          110.04145077720207,
          6.374384236453202,
          64.55232558139535,
          64.02197802197803,
          39.55927835051546,
          57.305331179321485,
          45.23127035830619,
          55.103120759837175,
          31.63659147869674,
          101.22262773722628,
          69.66294227188082,
          62.25430210325048,
          16.57075471698113,
          50.618852459016395,
          86.83187772925764,
          46.571653543307086,
          18.447928331466965,
          27.04892966360856,
          27.30188679245283,
          30.86292834890966,
          76.94647887323944,
          9.921052631578947,
          30.631469979296067,
          63.25242718446602,
          24.486552567237165,
          48.67610619469026,
          66.3145956607495,
          48.317697228144986,
          16.46908315565032,
          43.77358490566038,
          181.24635332252836,
          4.4402654867256635,
          50.743639921722114,
          56.43181818181818,
          62.95145631067961,
          103.49937888198758,
          55.473684210526315,
          39.03583061889251,
          15.806343906510852,
          22.46103038309115,
          121.78412698412698,
          32.936,
          36.22764227642276,
          4.428927680798005,
          32.63822115384615
         ],
         "xaxis": "x",
         "yaxis": "y"
        },
        {
         "alignmentgroup": "True",
         "bingroup": "x",
         "hovertemplate": "is_treated=True<br>purchases_per_customer=%{x}<br>count=%{y}<extra></extra>",
         "legendgroup": "True",
         "marker": {
          "color": "#EF553B",
          "pattern": {
           "shape": ""
          }
         },
         "name": "True",
         "nbinsx": 30,
         "offsetgroup": "True",
         "orientation": "v",
         "showlegend": true,
         "type": "histogram",
         "x": [
          40.821744627054365,
          14.108262108262108,
          46.9141592920354,
          22.027237354085603,
          28.520992366412212,
          119.87557603686636,
          92.11206896551724,
          4.859872611464968,
          88.83478260869565,
          85.77067082683307,
          40.77812018489985,
          22.113526570048307,
          17.865781710914455,
          96.70470588235294,
          12.189834024896266,
          71.89711934156378,
          69.87079261672096,
          104.13076923076923,
          8.494263862332696,
          80.58896797153025,
          83.60617059891108,
          16.06029106029106,
          138.67098445595855,
          91.43540669856459,
          6.683076923076923,
          17.05439330543933,
          68.93877551020408,
          20.091743119266056,
          17.475138121546962,
          111.3485401459854,
          79.90115532734275,
          37.59782608695652,
          24.828793774319067,
          95.67835550181378,
          20.456179775280898,
          40.94964028776978,
          17.123456790123456,
          6.429175475687104,
          67.76293103448276
         ],
         "xaxis": "x",
         "yaxis": "y"
        },
        {
         "alignmentgroup": "True",
         "hovertemplate": "is_treated=True<br>purchases_per_customer=%{x}<extra></extra>",
         "legendgroup": "True",
         "marker": {
          "color": "#EF553B"
         },
         "name": "True",
         "notched": true,
         "offsetgroup": "True",
         "showlegend": false,
         "type": "box",
         "x": [
          40.821744627054365,
          14.108262108262108,
          46.9141592920354,
          22.027237354085603,
          28.520992366412212,
          119.87557603686636,
          92.11206896551724,
          4.859872611464968,
          88.83478260869565,
          85.77067082683307,
          40.77812018489985,
          22.113526570048307,
          17.865781710914455,
          96.70470588235294,
          12.189834024896266,
          71.89711934156378,
          69.87079261672096,
          104.13076923076923,
          8.494263862332696,
          80.58896797153025,
          83.60617059891108,
          16.06029106029106,
          138.67098445595855,
          91.43540669856459,
          6.683076923076923,
          17.05439330543933,
          68.93877551020408,
          20.091743119266056,
          17.475138121546962,
          111.3485401459854,
          79.90115532734275,
          37.59782608695652,
          24.828793774319067,
          95.67835550181378,
          20.456179775280898,
          40.94964028776978,
          17.123456790123456,
          6.429175475687104,
          67.76293103448276
         ],
         "xaxis": "x",
         "yaxis": "y"
        },
        {
         "alignmentgroup": "True",
         "bingroup": "x",
         "hovertemplate": "is_treated=False<br>purchases_per_transaction=%{x}<br>count=%{y}<extra></extra>",
         "legendgroup": "False",
         "marker": {
          "color": "#636efa",
          "pattern": {
           "shape": ""
          }
         },
         "name": "False",
         "nbinsx": 30,
         "offsetgroup": "False",
         "orientation": "v",
         "showlegend": true,
         "type": "histogram",
         "x": [
          23.95749888740543,
          15.69890510948905,
          3.422654268808115,
          5.647665962936899,
          3.809761721752498,
          8.578947368421053,
          19.048679678530426,
          9.055634807417974,
          25.60833982852689,
          29.594229035166816,
          26.484536082474225,
          5.4898851831601965,
          20.05355832721937,
          7.974377224199288,
          1.040457343887423,
          3.309814323607427,
          26.025848645281844,
          15.041268758526604,
          9.906005221932116,
          16.802091713596138,
          10.580259222333002,
          16.27685791297651,
          7.628108108108108,
          1.041432109885161,
          21.555172413793102,
          12.29298572315332,
          8.34696678561625,
          31.97721057429353,
          8.075848303393213,
          23.60373998219056,
          14.1190036900369,
          24.320319849482598,
          18.967074317968017,
          22.93974175035868,
          4.664909638554217,
          5.205958549222798,
          25.844843322178278,
          1.4547498594716133,
          15.399445214979195,
          15.185056472632494,
          9.257539203860073,
          13.538931297709924,
          10.82307092751364,
          13.301998034719947,
          7.407863849765258,
          24.642381163927144,
          16.523409893992934,
          14.799545454545454,
          3.9943149516770893,
          11.740494296577946,
          20.76710182767624,
          11.308986615678776,
          4.291221672310497,
          6.4374090247452695,
          6.452619843924192,
          7.3006632277081795,
          18.253257601069162,
          2.432258064516129,
          7.116402116402116,
          15.116009280742459,
          6.000599161174356,
          11.798369798369798,
          15.792155941756693,
          11.341841841841841,
          3.887267237040765,
          10.55745164960182,
          43.7858261550509,
          1.04097510373444,
          12.032482598607888,
          13.711919005982512,
          14.849885488236518,
          24.333235981308412,
          13.486220472440944,
          9.379598225932689,
          3.7100313479623823,
          5.323418910457107,
          28.186627479794268,
          7.917307692307692,
          8.876494023904382,
          1.034965034965035,
          7.774119667907243
         ],
         "xaxis": "x2",
         "yaxis": "y2"
        },
        {
         "alignmentgroup": "True",
         "hovertemplate": "is_treated=False<br>purchases_per_transaction=%{x}<extra></extra>",
         "legendgroup": "False",
         "marker": {
          "color": "#636efa"
         },
         "name": "False",
         "notched": true,
         "offsetgroup": "False",
         "showlegend": false,
         "type": "box",
         "x": [
          23.95749888740543,
          15.69890510948905,
          3.422654268808115,
          5.647665962936899,
          3.809761721752498,
          8.578947368421053,
          19.048679678530426,
          9.055634807417974,
          25.60833982852689,
          29.594229035166816,
          26.484536082474225,
          5.4898851831601965,
          20.05355832721937,
          7.974377224199288,
          1.040457343887423,
          3.309814323607427,
          26.025848645281844,
          15.041268758526604,
          9.906005221932116,
          16.802091713596138,
          10.580259222333002,
          16.27685791297651,
          7.628108108108108,
          1.041432109885161,
          21.555172413793102,
          12.29298572315332,
          8.34696678561625,
          31.97721057429353,
          8.075848303393213,
          23.60373998219056,
          14.1190036900369,
          24.320319849482598,
          18.967074317968017,
          22.93974175035868,
          4.664909638554217,
          5.205958549222798,
          25.844843322178278,
          1.4547498594716133,
          15.399445214979195,
          15.185056472632494,
          9.257539203860073,
          13.538931297709924,
          10.82307092751364,
          13.301998034719947,
          7.407863849765258,
          24.642381163927144,
          16.523409893992934,
          14.799545454545454,
          3.9943149516770893,
          11.740494296577946,
          20.76710182767624,
          11.308986615678776,
          4.291221672310497,
          6.4374090247452695,
          6.452619843924192,
          7.3006632277081795,
          18.253257601069162,
          2.432258064516129,
          7.116402116402116,
          15.116009280742459,
          6.000599161174356,
          11.798369798369798,
          15.792155941756693,
          11.341841841841841,
          3.887267237040765,
          10.55745164960182,
          43.7858261550509,
          1.04097510373444,
          12.032482598607888,
          13.711919005982512,
          14.849885488236518,
          24.333235981308412,
          13.486220472440944,
          9.379598225932689,
          3.7100313479623823,
          5.323418910457107,
          28.186627479794268,
          7.917307692307692,
          8.876494023904382,
          1.034965034965035,
          7.774119667907243
         ],
         "xaxis": "x2",
         "yaxis": "y2"
        },
        {
         "alignmentgroup": "True",
         "bingroup": "x",
         "hovertemplate": "is_treated=True<br>purchases_per_transaction=%{x}<br>count=%{y}<extra></extra>",
         "legendgroup": "True",
         "marker": {
          "color": "#EF553B",
          "pattern": {
           "shape": ""
          }
         },
         "name": "True",
         "nbinsx": 30,
         "offsetgroup": "True",
         "orientation": "v",
         "showlegend": true,
         "type": "histogram",
         "x": [
          9.455344070278185,
          3.2947438456420493,
          11.23156779661017,
          5.081687612208259,
          6.6186891054030115,
          26.395738203957382,
          20.828460038986353,
          1.0786993402450518,
          19.91423001949318,
          20.552897196261682,
          9.96798493408663,
          4.954004329004329,
          4.165405777166438,
          22.55116598079561,
          2.777357598676436,
          16.236988847583643,
          16.29964539007092,
          23.408843873517785,
          1.8912303107705406,
          18.53150572831424,
          19.421163575042158,
          3.7830558276199806,
          31.13845258871437,
          22.195121951219512,
          1.5274261603375527,
          3.798695246971109,
          16.513851167843562,
          4.644750795334041,
          4.105126541207008,
          26.09880239520958,
          18.669166166766647,
          8.145211930926216,
          6.002822201317027,
          21.696188648204004,
          4.462254901960784,
          9.361842105263158,
          4.079411764705882,
          1.4719264278799613,
          15.807943690296632
         ],
         "xaxis": "x2",
         "yaxis": "y2"
        },
        {
         "alignmentgroup": "True",
         "hovertemplate": "is_treated=True<br>purchases_per_transaction=%{x}<extra></extra>",
         "legendgroup": "True",
         "marker": {
          "color": "#EF553B"
         },
         "name": "True",
         "notched": true,
         "offsetgroup": "True",
         "showlegend": false,
         "type": "box",
         "x": [
          9.455344070278185,
          3.2947438456420493,
          11.23156779661017,
          5.081687612208259,
          6.6186891054030115,
          26.395738203957382,
          20.828460038986353,
          1.0786993402450518,
          19.91423001949318,
          20.552897196261682,
          9.96798493408663,
          4.954004329004329,
          4.165405777166438,
          22.55116598079561,
          2.777357598676436,
          16.236988847583643,
          16.29964539007092,
          23.408843873517785,
          1.8912303107705406,
          18.53150572831424,
          19.421163575042158,
          3.7830558276199806,
          31.13845258871437,
          22.195121951219512,
          1.5274261603375527,
          3.798695246971109,
          16.513851167843562,
          4.644750795334041,
          4.105126541207008,
          26.09880239520958,
          18.669166166766647,
          8.145211930926216,
          6.002822201317027,
          21.696188648204004,
          4.462254901960784,
          9.361842105263158,
          4.079411764705882,
          1.4719264278799613,
          15.807943690296632
         ],
         "xaxis": "x2",
         "yaxis": "y2"
        }
       ],
       "layout": {
        "template": {
         "data": {
          "bar": [
           {
            "error_x": {
             "color": "#2a3f5f"
            },
            "error_y": {
             "color": "#2a3f5f"
            },
            "marker": {
             "line": {
              "color": "#E5ECF6",
              "width": 0.5
             },
             "pattern": {
              "fillmode": "overlay",
              "size": 10,
              "solidity": 0.2
             }
            },
            "type": "bar"
           }
          ],
          "barpolar": [
           {
            "marker": {
             "line": {
              "color": "#E5ECF6",
              "width": 0.5
             },
             "pattern": {
              "fillmode": "overlay",
              "size": 10,
              "solidity": 0.2
             }
            },
            "type": "barpolar"
           }
          ],
          "carpet": [
           {
            "aaxis": {
             "endlinecolor": "#2a3f5f",
             "gridcolor": "white",
             "linecolor": "white",
             "minorgridcolor": "white",
             "startlinecolor": "#2a3f5f"
            },
            "baxis": {
             "endlinecolor": "#2a3f5f",
             "gridcolor": "white",
             "linecolor": "white",
             "minorgridcolor": "white",
             "startlinecolor": "#2a3f5f"
            },
            "type": "carpet"
           }
          ],
          "choropleth": [
           {
            "colorbar": {
             "outlinewidth": 0,
             "ticks": ""
            },
            "type": "choropleth"
           }
          ],
          "contour": [
           {
            "colorbar": {
             "outlinewidth": 0,
             "ticks": ""
            },
            "colorscale": [
             [
              0,
              "#0d0887"
             ],
             [
              0.1111111111111111,
              "#46039f"
             ],
             [
              0.2222222222222222,
              "#7201a8"
             ],
             [
              0.3333333333333333,
              "#9c179e"
             ],
             [
              0.4444444444444444,
              "#bd3786"
             ],
             [
              0.5555555555555556,
              "#d8576b"
             ],
             [
              0.6666666666666666,
              "#ed7953"
             ],
             [
              0.7777777777777778,
              "#fb9f3a"
             ],
             [
              0.8888888888888888,
              "#fdca26"
             ],
             [
              1,
              "#f0f921"
             ]
            ],
            "type": "contour"
           }
          ],
          "contourcarpet": [
           {
            "colorbar": {
             "outlinewidth": 0,
             "ticks": ""
            },
            "type": "contourcarpet"
           }
          ],
          "heatmap": [
           {
            "colorbar": {
             "outlinewidth": 0,
             "ticks": ""
            },
            "colorscale": [
             [
              0,
              "#0d0887"
             ],
             [
              0.1111111111111111,
              "#46039f"
             ],
             [
              0.2222222222222222,
              "#7201a8"
             ],
             [
              0.3333333333333333,
              "#9c179e"
             ],
             [
              0.4444444444444444,
              "#bd3786"
             ],
             [
              0.5555555555555556,
              "#d8576b"
             ],
             [
              0.6666666666666666,
              "#ed7953"
             ],
             [
              0.7777777777777778,
              "#fb9f3a"
             ],
             [
              0.8888888888888888,
              "#fdca26"
             ],
             [
              1,
              "#f0f921"
             ]
            ],
            "type": "heatmap"
           }
          ],
          "heatmapgl": [
           {
            "colorbar": {
             "outlinewidth": 0,
             "ticks": ""
            },
            "colorscale": [
             [
              0,
              "#0d0887"
             ],
             [
              0.1111111111111111,
              "#46039f"
             ],
             [
              0.2222222222222222,
              "#7201a8"
             ],
             [
              0.3333333333333333,
              "#9c179e"
             ],
             [
              0.4444444444444444,
              "#bd3786"
             ],
             [
              0.5555555555555556,
              "#d8576b"
             ],
             [
              0.6666666666666666,
              "#ed7953"
             ],
             [
              0.7777777777777778,
              "#fb9f3a"
             ],
             [
              0.8888888888888888,
              "#fdca26"
             ],
             [
              1,
              "#f0f921"
             ]
            ],
            "type": "heatmapgl"
           }
          ],
          "histogram": [
           {
            "marker": {
             "pattern": {
              "fillmode": "overlay",
              "size": 10,
              "solidity": 0.2
             }
            },
            "type": "histogram"
           }
          ],
          "histogram2d": [
           {
            "colorbar": {
             "outlinewidth": 0,
             "ticks": ""
            },
            "colorscale": [
             [
              0,
              "#0d0887"
             ],
             [
              0.1111111111111111,
              "#46039f"
             ],
             [
              0.2222222222222222,
              "#7201a8"
             ],
             [
              0.3333333333333333,
              "#9c179e"
             ],
             [
              0.4444444444444444,
              "#bd3786"
             ],
             [
              0.5555555555555556,
              "#d8576b"
             ],
             [
              0.6666666666666666,
              "#ed7953"
             ],
             [
              0.7777777777777778,
              "#fb9f3a"
             ],
             [
              0.8888888888888888,
              "#fdca26"
             ],
             [
              1,
              "#f0f921"
             ]
            ],
            "type": "histogram2d"
           }
          ],
          "histogram2dcontour": [
           {
            "colorbar": {
             "outlinewidth": 0,
             "ticks": ""
            },
            "colorscale": [
             [
              0,
              "#0d0887"
             ],
             [
              0.1111111111111111,
              "#46039f"
             ],
             [
              0.2222222222222222,
              "#7201a8"
             ],
             [
              0.3333333333333333,
              "#9c179e"
             ],
             [
              0.4444444444444444,
              "#bd3786"
             ],
             [
              0.5555555555555556,
              "#d8576b"
             ],
             [
              0.6666666666666666,
              "#ed7953"
             ],
             [
              0.7777777777777778,
              "#fb9f3a"
             ],
             [
              0.8888888888888888,
              "#fdca26"
             ],
             [
              1,
              "#f0f921"
             ]
            ],
            "type": "histogram2dcontour"
           }
          ],
          "mesh3d": [
           {
            "colorbar": {
             "outlinewidth": 0,
             "ticks": ""
            },
            "type": "mesh3d"
           }
          ],
          "parcoords": [
           {
            "line": {
             "colorbar": {
              "outlinewidth": 0,
              "ticks": ""
             }
            },
            "type": "parcoords"
           }
          ],
          "pie": [
           {
            "automargin": true,
            "type": "pie"
           }
          ],
          "scatter": [
           {
            "fillpattern": {
             "fillmode": "overlay",
             "size": 10,
             "solidity": 0.2
            },
            "type": "scatter"
           }
          ],
          "scatter3d": [
           {
            "line": {
             "colorbar": {
              "outlinewidth": 0,
              "ticks": ""
             }
            },
            "marker": {
             "colorbar": {
              "outlinewidth": 0,
              "ticks": ""
             }
            },
            "type": "scatter3d"
           }
          ],
          "scattercarpet": [
           {
            "marker": {
             "colorbar": {
              "outlinewidth": 0,
              "ticks": ""
             }
            },
            "type": "scattercarpet"
           }
          ],
          "scattergeo": [
           {
            "marker": {
             "colorbar": {
              "outlinewidth": 0,
              "ticks": ""
             }
            },
            "type": "scattergeo"
           }
          ],
          "scattergl": [
           {
            "marker": {
             "colorbar": {
              "outlinewidth": 0,
              "ticks": ""
             }
            },
            "type": "scattergl"
           }
          ],
          "scattermapbox": [
           {
            "marker": {
             "colorbar": {
              "outlinewidth": 0,
              "ticks": ""
             }
            },
            "type": "scattermapbox"
           }
          ],
          "scatterpolar": [
           {
            "marker": {
             "colorbar": {
              "outlinewidth": 0,
              "ticks": ""
             }
            },
            "type": "scatterpolar"
           }
          ],
          "scatterpolargl": [
           {
            "marker": {
             "colorbar": {
              "outlinewidth": 0,
              "ticks": ""
             }
            },
            "type": "scatterpolargl"
           }
          ],
          "scatterternary": [
           {
            "marker": {
             "colorbar": {
              "outlinewidth": 0,
              "ticks": ""
             }
            },
            "type": "scatterternary"
           }
          ],
          "surface": [
           {
            "colorbar": {
             "outlinewidth": 0,
             "ticks": ""
            },
            "colorscale": [
             [
              0,
              "#0d0887"
             ],
             [
              0.1111111111111111,
              "#46039f"
             ],
             [
              0.2222222222222222,
              "#7201a8"
             ],
             [
              0.3333333333333333,
              "#9c179e"
             ],
             [
              0.4444444444444444,
              "#bd3786"
             ],
             [
              0.5555555555555556,
              "#d8576b"
             ],
             [
              0.6666666666666666,
              "#ed7953"
             ],
             [
              0.7777777777777778,
              "#fb9f3a"
             ],
             [
              0.8888888888888888,
              "#fdca26"
             ],
             [
              1,
              "#f0f921"
             ]
            ],
            "type": "surface"
           }
          ],
          "table": [
           {
            "cells": {
             "fill": {
              "color": "#EBF0F8"
             },
             "line": {
              "color": "white"
             }
            },
            "header": {
             "fill": {
              "color": "#C8D4E3"
             },
             "line": {
              "color": "white"
             }
            },
            "type": "table"
           }
          ]
         },
         "layout": {
          "annotationdefaults": {
           "arrowcolor": "#2a3f5f",
           "arrowhead": 0,
           "arrowwidth": 1
          },
          "autotypenumbers": "strict",
          "coloraxis": {
           "colorbar": {
            "outlinewidth": 0,
            "ticks": ""
           }
          },
          "colorscale": {
           "diverging": [
            [
             0,
             "#8e0152"
            ],
            [
             0.1,
             "#c51b7d"
            ],
            [
             0.2,
             "#de77ae"
            ],
            [
             0.3,
             "#f1b6da"
            ],
            [
             0.4,
             "#fde0ef"
            ],
            [
             0.5,
             "#f7f7f7"
            ],
            [
             0.6,
             "#e6f5d0"
            ],
            [
             0.7,
             "#b8e186"
            ],
            [
             0.8,
             "#7fbc41"
            ],
            [
             0.9,
             "#4d9221"
            ],
            [
             1,
             "#276419"
            ]
           ],
           "sequential": [
            [
             0,
             "#0d0887"
            ],
            [
             0.1111111111111111,
             "#46039f"
            ],
            [
             0.2222222222222222,
             "#7201a8"
            ],
            [
             0.3333333333333333,
             "#9c179e"
            ],
            [
             0.4444444444444444,
             "#bd3786"
            ],
            [
             0.5555555555555556,
             "#d8576b"
            ],
            [
             0.6666666666666666,
             "#ed7953"
            ],
            [
             0.7777777777777778,
             "#fb9f3a"
            ],
            [
             0.8888888888888888,
             "#fdca26"
            ],
            [
             1,
             "#f0f921"
            ]
           ],
           "sequentialminus": [
            [
             0,
             "#0d0887"
            ],
            [
             0.1111111111111111,
             "#46039f"
            ],
            [
             0.2222222222222222,
             "#7201a8"
            ],
            [
             0.3333333333333333,
             "#9c179e"
            ],
            [
             0.4444444444444444,
             "#bd3786"
            ],
            [
             0.5555555555555556,
             "#d8576b"
            ],
            [
             0.6666666666666666,
             "#ed7953"
            ],
            [
             0.7777777777777778,
             "#fb9f3a"
            ],
            [
             0.8888888888888888,
             "#fdca26"
            ],
            [
             1,
             "#f0f921"
            ]
           ]
          },
          "colorway": [
           "#636efa",
           "#EF553B",
           "#00cc96",
           "#ab63fa",
           "#FFA15A",
           "#19d3f3",
           "#FF6692",
           "#B6E880",
           "#FF97FF",
           "#FECB52"
          ],
          "font": {
           "color": "#2a3f5f"
          },
          "geo": {
           "bgcolor": "white",
           "lakecolor": "white",
           "landcolor": "#E5ECF6",
           "showlakes": true,
           "showland": true,
           "subunitcolor": "white"
          },
          "hoverlabel": {
           "align": "left"
          },
          "hovermode": "closest",
          "mapbox": {
           "style": "light"
          },
          "paper_bgcolor": "white",
          "plot_bgcolor": "#E5ECF6",
          "polar": {
           "angularaxis": {
            "gridcolor": "white",
            "linecolor": "white",
            "ticks": ""
           },
           "bgcolor": "#E5ECF6",
           "radialaxis": {
            "gridcolor": "white",
            "linecolor": "white",
            "ticks": ""
           }
          },
          "scene": {
           "xaxis": {
            "backgroundcolor": "#E5ECF6",
            "gridcolor": "white",
            "gridwidth": 2,
            "linecolor": "white",
            "showbackground": true,
            "ticks": "",
            "zerolinecolor": "white"
           },
           "yaxis": {
            "backgroundcolor": "#E5ECF6",
            "gridcolor": "white",
            "gridwidth": 2,
            "linecolor": "white",
            "showbackground": true,
            "ticks": "",
            "zerolinecolor": "white"
           },
           "zaxis": {
            "backgroundcolor": "#E5ECF6",
            "gridcolor": "white",
            "gridwidth": 2,
            "linecolor": "white",
            "showbackground": true,
            "ticks": "",
            "zerolinecolor": "white"
           }
          },
          "shapedefaults": {
           "line": {
            "color": "#2a3f5f"
           }
          },
          "ternary": {
           "aaxis": {
            "gridcolor": "white",
            "linecolor": "white",
            "ticks": ""
           },
           "baxis": {
            "gridcolor": "white",
            "linecolor": "white",
            "ticks": ""
           },
           "bgcolor": "#E5ECF6",
           "caxis": {
            "gridcolor": "white",
            "linecolor": "white",
            "ticks": ""
           }
          },
          "title": {
           "x": 0.05
          },
          "xaxis": {
           "automargin": true,
           "gridcolor": "white",
           "linecolor": "white",
           "ticks": "",
           "title": {
            "standoff": 15
           },
           "zerolinecolor": "white",
           "zerolinewidth": 2
          },
          "yaxis": {
           "automargin": true,
           "gridcolor": "white",
           "linecolor": "white",
           "ticks": "",
           "title": {
            "standoff": 15
           },
           "zerolinecolor": "white",
           "zerolinewidth": 2
          }
         }
        },
        "xaxis": {
         "anchor": "y",
         "domain": [
          0,
          1
         ]
        },
        "xaxis2": {
         "anchor": "y2",
         "domain": [
          0,
          1
         ]
        },
        "yaxis": {
         "anchor": "x",
         "domain": [
          0.575,
          1
         ]
        },
        "yaxis2": {
         "anchor": "x2",
         "domain": [
          0,
          0.425
         ]
        }
       }
      }
     },
     "metadata": {},
     "output_type": "display_data"
    }
   ],
   "source": [
    "from datasoup.utils import plotly_subplot_from_figs\n",
    "\n",
    "fig_1 = px.histogram(\n",
    "    data_frame=metrics_frame,\n",
    "    x=\"purchases_per_customer\",\n",
    "    color=Transactions.IS_TREATED_COL,\n",
    "    nbins=30,\n",
    "    marginal=\"box\",\n",
    ")\n",
    "fig_2 = px.histogram(\n",
    "    data_frame=metrics_frame,\n",
    "    x=\"purchases_per_transaction\",\n",
    "    color=Transactions.IS_TREATED_COL,\n",
    "    nbins=30,\n",
    "    marginal=\"box\",\n",
    ")"
   ]
  },
  {
   "cell_type": "code",
   "execution_count": null,
   "metadata": {},
   "outputs": [],
   "source": []
  }
 ],
 "metadata": {
  "kernelspec": {
   "display_name": ".venv",
   "language": "python",
   "name": "python3"
  },
  "language_info": {
   "codemirror_mode": {
    "name": "ipython",
    "version": 3
   },
   "file_extension": ".py",
   "mimetype": "text/x-python",
   "name": "python",
   "nbconvert_exporter": "python",
   "pygments_lexer": "ipython3",
   "version": "3.12.4"
  }
 },
 "nbformat": 4,
 "nbformat_minor": 2
}
